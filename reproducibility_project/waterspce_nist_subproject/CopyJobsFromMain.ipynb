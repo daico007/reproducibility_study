{
 "cells": [
  {
   "cell_type": "code",
   "execution_count": 1,
   "id": "c9a1a1b9-11f2-41ab-a169-39465c25adb8",
   "metadata": {},
   "outputs": [],
   "source": [
    "import signac \n"
   ]
  },
  {
   "cell_type": "code",
   "execution_count": 5,
   "id": "ea50676d-e41e-491e-8a53-933e542ded9e",
   "metadata": {},
   "outputs": [],
   "source": [
    "water_project = signac.get_project()\n",
    "main_project = signac.get_project(\"..\")"
   ]
  },
  {
   "cell_type": "code",
   "execution_count": 9,
   "id": "8e32adc5-a625-48e6-9652-b8c3861cd5f2",
   "metadata": {},
   "outputs": [
    {
     "name": "stdout",
     "output_type": "stream",
     "text": [
      "77069acf2ba3c2ac032e22b349172f58\n",
      "438472aaebe012becb841900f11e8089\n",
      "85c294f318a6954e154c35d5bfe1ef66\n",
      "c52ac63c3cd6c9f0ba90a990c073e40b\n",
      "22dfab1a254627f0501a8a096f434e06\n",
      "04cd12b6b9d6b23ffafc6a598533c532\n",
      "03f644b35e36bb40b548d8d9678eb026\n",
      "59276ce34484983ddfe0617766216775\n",
      "4a3a5d5666e102990bb9be4bcda86ec6\n",
      "f57c20ff9af41f4bf5a0845084751fde\n",
      "7034ce2d00313a5d53e6b3bebaab4346\n",
      "1259fb8a8649d20197ccb6e32f3d7f29\n",
      "6a378304d28e664a3748fb293d5e0a6a\n",
      "b906c6273bfcb91bd53a91ee1b93233d\n",
      "a3200a4922f238ef0a59d7614ca569a7\n",
      "9d9fd5311312f078f1fc6502faba5cd2\n",
      "ff8644edc536ca58ebb72b8e31682182\n",
      "db634d0fcb74f4ad3c272837f04f82f7\n",
      "eb5dc4e017cbfdcab03e6d67c3671b71\n",
      "b3cfde43f79cc1380d37ab7280082dfa\n",
      "3a336d7c04601925681471c77a4d557f\n",
      "31a2801c982639419de1a9732c330f7a\n",
      "cf2fb4ffdc1a4017943f2f523d4d15d5\n",
      "ffd3832ff8e0d2c5dd05b0622bdcce40\n",
      "2ec514c47c47fd201c91548f55f68edf\n",
      "6e9659526461fef7b3c236a6bb9df8a3\n",
      "4583f3a3f09b2a403ae2b57b9aa93731\n",
      "ffa32c5bfe423af20473949db75bbbc6\n",
      "6cd78ba31948f9f4ff20f320748066fc\n",
      "909e5025e44b0ded4f604bab571e2e3b\n",
      "438b48edd3bd6c69f6705585d0070b7f\n",
      "736d218012310b2ef4ae97d74f093dac\n"
     ]
    }
   ],
   "source": [
    "subwater300 = list() \n",
    "for job in water_project.find_jobs(\n",
    "    {\"molecule\": \"waterSPCE\", \n",
    "     \"engine\": \"lammps-VU\",\n",
    "     \"temperature\": 300}):\n",
    "    print(job)\n",
    "    subwater300.append(job)"
   ]
  },
  {
   "cell_type": "code",
   "execution_count": 10,
   "id": "b26592aa-a2cb-4b1b-97c0-824d7ecc2bc3",
   "metadata": {},
   "outputs": [
    {
     "name": "stdout",
     "output_type": "stream",
     "text": [
      "2d9041a3f5df0bb05c80d9f8b8e45922\n",
      "7a000650080faa84404e10a162165a15\n",
      "8da07ad0aac9e173f58ff3fecdf5d196\n",
      "cdd6fc31c8c7207772c6c92017fc995c\n",
      "4e5cdc1bc0d1bc36642fba2b8a53fafa\n",
      "090fbb9ccc864ba1d9288feb1cf2e5f3\n",
      "5d97ea989ad4b03b478f44d22c2dd214\n",
      "5bd786d834c15a99bec3805a6f0b62c9\n",
      "0bf694afe82134b9ae263d6b2d42459f\n",
      "3e093bbda777238241f1aa9bc441b31f\n",
      "0952b38230aa4c9a441e5733e0d18218\n",
      "03b2f67bf566a969eb11d5d27035ae28\n",
      "d52ad1c4ac01d1e710eb92daa35454b7\n",
      "dfa90c3824da921ada9cf8439145a05f\n",
      "792abd0869527ba259df209a5161e293\n",
      "59ddd98bbb746e5fede5a23299859bd7\n"
     ]
    }
   ],
   "source": [
    "mainwater300 = list() \n",
    "for job in main_project.find_jobs(\n",
    "    {\"molecule\": \"waterSPCE\", \n",
    "     \"engine\": \"lammps-VU\",\n",
    "     \"temperature\": 300}):\n",
    "    print(job)\n",
    "    mainwater300.append(job)"
   ]
  },
  {
   "cell_type": "code",
   "execution_count": null,
   "id": "25c75797-8f29-4509-9dd0-38663db6ed93",
   "metadata": {},
   "outputs": [],
   "source": []
  }
 ],
 "metadata": {
  "kernelspec": {
   "display_name": "Python 3 (ipykernel)",
   "language": "python",
   "name": "python3"
  },
  "language_info": {
   "codemirror_mode": {
    "name": "ipython",
    "version": 3
   },
   "file_extension": ".py",
   "mimetype": "text/x-python",
   "name": "python",
   "nbconvert_exporter": "python",
   "pygments_lexer": "ipython3",
   "version": "3.10.13"
  }
 },
 "nbformat": 4,
 "nbformat_minor": 5
}
