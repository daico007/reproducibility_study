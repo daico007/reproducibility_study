{
 "cells": [
  {
   "cell_type": "code",
   "execution_count": null,
   "id": "1f0344e2-e62e-4a82-83df-420abebeb3a5",
   "metadata": {},
   "outputs": [],
   "source": [
    "import signac\n",
    "import panedr\n",
    "import numpy as np\n",
    "import unyt as u"
   ]
  },
  {
   "cell_type": "code",
   "execution_count": null,
   "id": "3d94edba-c3ae-4057-8418-81001093dba1",
   "metadata": {},
   "outputs": [],
   "source": [
    "project = signac.get_project()"
   ]
  },
  {
   "cell_type": "code",
   "execution_count": null,
   "id": "cd78f33d-1b5a-477a-b83c-2de5cf10a5e5",
   "metadata": {},
   "outputs": [],
   "source": [
    "pretty_names = {\n",
    "    \"cassandra\": \"Cassandra\",\n",
    "    \"mcccs\": \"MCCCS-MN\",\n",
    "    \"gomc\": \"GOMC\",\n",
    "    \"gromacs\": \"GROMACS\",\n",
    "    \"hoomd\": \"HOOMD-blue\",\n",
    "    \"lammps-VU\": \"LAMMPS\",\n",
    "}\n",
    "pretty_molecules = {\n",
    "    \"methaneUA\": \"TraPPE Methane\",\n",
    "    \"pentaneUA\": \"TraPPE Pentane\",\n",
    "    \"benzeneUA\": \"TraPPE Benzene\",\n",
    "    \"ethanolAA\": \"OPLS-AA Ethanol\",\n",
    "    \"waterSPCE\": \"SPC/E Water\"}"
   ]
  },
  {
   "cell_type": "code",
   "execution_count": null,
   "id": "cf50f799-1b30-4bf6-ae6e-46bd701770ba",
   "metadata": {
    "tags": []
   },
   "outputs": [],
   "source": [
    "engines = [\"lammps-VU\",\n",
    "           \"hoomd\",\n",
    "           \"gromacs\",\n",
    "           \"mcccs\",\n",
    "           \"gomc\",\n",
    "           \"cassandra\"]\n",
    "\n",
    "molecules = [\"methaneUA\", \"pentaneUA\", \"benzeneUA\", \"waterSPCE\", \"ethanolAA\"]\n",
    "properties = ['potential_energy',\n",
    "        'tot_vdw_energy',\n",
    "        'tail_energy',\n",
    "        'tot_electrostatics',\n",
    "        'short_range_electrostatics',\n",
    "        'long_range_electrostatics',\n",
    "        'tot_pair_energy',\n",
    "        'bonds_energy',\n",
    "        'angles_energy',\n",
    "        'dihedrals_energy',\n",
    "        'tot_bonded_energy',\n",
    "        'intramolecular_energy',\n",
    "        'intermolecular_energy',]"
   ]
  },
  {
   "cell_type": "code",
   "execution_count": null,
   "id": "e5b9eed2-1e30-4a0e-8020-d8034608d0bc",
   "metadata": {},
   "outputs": [],
   "source": [
    "spe_data = dict()\n",
    "for molecule in molecules:\n",
    "    spe_data[molecule] = dict()\n",
    "    for engine in engines:\n",
    "        spe_data[molecule][engine] = dict()\n",
    "        for property in properties:\n",
    "            spe_data[molecule][engine][property] = 0"
   ]
  },
  {
   "cell_type": "markdown",
   "id": "503e45e1-2301-4bd7-8ac0-df8a93e58984",
   "metadata": {},
   "source": [
    "# Parse LAMMPS SPE"
   ]
  },
  {
   "cell_type": "code",
   "execution_count": null,
   "id": "0a02e346-ddcf-4f6d-887c-0bb93862cbcd",
   "metadata": {},
   "outputs": [],
   "source": [
    "lmp_map = {\"potential_energy\": \"potential_energy\",\n",
    "           \"tot_vdw_energy\": \"tot_vdw_energy\",\n",
    "           \"short_range_electrostatics\": \"tot_electrostatics\",\n",
    "           \"tot_electrostatics\": \"tot_electrostatics\",\n",
    "           \"pair_energy\": \"tot_pair_energy\",\n",
    "           \"bonds_energy\": \"bonds_energy\",\n",
    "           \"angles_energy\": \"angles_energy\",\n",
    "           \"dihedrals_energy\": \"dihedrals_energy\",\n",
    "           \"tail_energy\": \"tail_energy\",\n",
    "           \"long_range_electrostatics\": \"long_range_electrostatics\",}"
   ]
  },
  {
   "cell_type": "code",
   "execution_count": null,
   "id": "2e97408b-c681-47f3-ab9b-5725eac606f0",
   "metadata": {},
   "outputs": [],
   "source": [
    "for job in project.find_jobs({\"engine\": \"lammps-VU\"}):\n",
    "    data = np.genfromtxt(f\"{job.ws}/log-spe.txt\", names=True, delimiter=\",\")\n",
    "    for prop in data.dtype.names:\n",
    "        if prop in properties:\n",
    "            spe_data[job.sp.molecule][job.sp.engine][prop] += data[prop]\n",
    "        else:\n",
    "            print(f\"Not included {job.sp.molecule} {prop}\")"
   ]
  },
  {
   "cell_type": "code",
   "execution_count": null,
   "id": "06696a18-06cb-41e1-9ef8-7bd3f0056c89",
   "metadata": {},
   "outputs": [],
   "source": [
    "# for job in project.find_jobs({\"engine\": \"lammps-VU\"}):\n",
    "#     data = np.genfromtxt(f\"{job.ws}/log-spe.txt\", names=True, delimiter=\",\")\n",
    "#     for prop in data.dtype.names:\n",
    "#         spe_data[job.sp.molecule][job.sp.engine][lmp_map[prop]] += data[prop]"
   ]
  },
  {
   "cell_type": "markdown",
   "id": "a4a2a9f4-807e-443d-9d77-4c6fce0ea570",
   "metadata": {},
   "source": [
    "# Parse HOOMD SPE"
   ]
  },
  {
   "cell_type": "code",
   "execution_count": null,
   "id": "011cef66-8fb1-4a6d-94c1-a0cfbc6f6eb1",
   "metadata": {},
   "outputs": [],
   "source": [
    "properties = ['potential_energy',\n",
    "        'tot_vdw_energy',\n",
    "        'tail_energy',\n",
    "        'tot_electrostatics',\n",
    "        'short_range_electrostatics',\n",
    "        'long_range_electrostatics',\n",
    "        'tot_pair_energy',\n",
    "        'bonds_energy',\n",
    "        'angles_energy',\n",
    "        'dihedrals_energy',\n",
    "        'tot_bonded_energy',\n",
    "        'intramolecular_energy',\n",
    "        'intermolecular_energy',]"
   ]
  },
  {
   "cell_type": "code",
   "execution_count": null,
   "id": "56ef293b-a99c-4e90-b9cf-df87b3a5b986",
   "metadata": {},
   "outputs": [],
   "source": [
    "hoomd_map = {\"pair_LJ\": (\"tot_pair_energy\", \"tot_vdw_energy\",),\n",
    "             \"pair_LJ_tail\": \"tail_energy\",\n",
    "             \"pair_Ewald\": (\"short_range_electrostatics\", \"tot_electrostatics\",),\n",
    "             \"pppm_Coulomb\": (\"long_range_electrostatics\", \"tot_electrostatics\",),\n",
    "             \"special_pair_LJ\": \"tot_pair_energy\",\n",
    "             \"special_pair_Coulomb\": (\"short_range_electrostatics\", \"tot_electrostatics\"),\n",
    "             \"bond_Harmonic\": \"bonds_energy\",\n",
    "             \"angle_Harmonic\": \"angles_energy\",\n",
    "             \"dihedral_OPLS\": \"dihedrals_energy\",\n",
    "             \"potential_energy\": \"potential_energy\"}"
   ]
  },
  {
   "cell_type": "code",
   "execution_count": null,
   "id": "28da477e-7eed-4954-8802-f28ce5c84152",
   "metadata": {},
   "outputs": [],
   "source": [
    "for job in project.find_jobs({\"engine\": \"hoomd\"}):\n",
    "    data = np.genfromtxt(f\"{job.ws}/log-spe-raw.txt\", names=True, delimiter=\" \")\n",
    "    for prop in data.dtype.names:\n",
    "        if isinstance(hoomd_map[prop], str):\n",
    "            spe_data[job.sp.molecule][job.sp.engine][hoomd_map[prop]] += data[prop]\n",
    "        else:\n",
    "            for key in hoomd_map[prop]:\n",
    "                spe_data[job.sp.molecule][job.sp.engine][key] += data[prop]\n"
   ]
  },
  {
   "cell_type": "markdown",
   "id": "69067c26-a931-47f1-be87-572bddd49b84",
   "metadata": {},
   "source": [
    "# Parse GROMACS SPE\n"
   ]
  },
  {
   "cell_type": "code",
   "execution_count": null,
   "id": "52ba6b19-a575-44f3-9c0e-ce963ec73267",
   "metadata": {},
   "outputs": [],
   "source": [
    "for job in project.find_jobs({\"engine\": \"gromacs\"}):\n",
    "    data = np.genfromtxt(f\"{job.ws}/log-spe-p3m.txt\", names=True, delimiter=\",\")\n",
    "    for prop in data.dtype.names:\n",
    "        if prop in properties:\n",
    "            spe_data[job.sp.molecule][job.sp.engine][prop] += data[prop]\n",
    "        else:\n",
    "            print(f\"Not included {job.sp.molecule} {prop}\")"
   ]
  },
  {
   "cell_type": "markdown",
   "id": "20514992-505a-451a-b572-be3bad0fb510",
   "metadata": {
    "tags": []
   },
   "source": [
    "# Parse MCCCS SPE"
   ]
  },
  {
   "cell_type": "code",
   "execution_count": null,
   "id": "38b68be1-85b3-404a-be88-692e849c69bf",
   "metadata": {},
   "outputs": [],
   "source": [
    "for job in project.find_jobs({\"engine\": \"mcccs\"}):\n",
    "    data = np.genfromtxt(f\"{job.ws}/log-spe.txt\", names=True, delimiter=\",\")\n",
    "    for prop in data.dtype.names:\n",
    "        if prop in properties:\n",
    "            spe_data[job.sp.molecule][job.sp.engine][prop] += data[prop]\n",
    "        else:\n",
    "            print(f\"Not included {job.sp.molecule} {prop}\")"
   ]
  },
  {
   "cell_type": "markdown",
   "id": "8f067e44-e76d-4404-8f1e-eaf2619a73f4",
   "metadata": {},
   "source": [
    "# Parse Cassandra SPE"
   ]
  },
  {
   "cell_type": "code",
   "execution_count": null,
   "id": "03cce855-d0af-4470-99e9-6b9905c3c9c7",
   "metadata": {},
   "outputs": [],
   "source": [
    "for job in project.find_jobs({\"engine\": \"cassandra\"}):\n",
    "    data = np.genfromtxt(f\"{job.ws}/log-spe.txt\", names=True, delimiter=\",\")\n",
    "    for prop in data.dtype.names:\n",
    "        if prop in properties:\n",
    "            spe_data[job.sp.molecule][job.sp.engine][prop] += data[prop]\n",
    "        else:\n",
    "            print(f\"Not included {job.sp.molecule} {prop}\")"
   ]
  },
  {
   "cell_type": "markdown",
   "id": "0c07d892-9b95-429d-b80b-3dd2136f186d",
   "metadata": {
    "tags": []
   },
   "source": [
    "# Create log-spe with full column from GOMC"
   ]
  },
  {
   "cell_type": "code",
   "execution_count": null,
   "id": "1d866ab4-0d7f-4be7-966c-e2505e48aad2",
   "metadata": {},
   "outputs": [],
   "source": [
    "# get_e_titles = bool as there are 2 headers, and it will print both otherwise\n",
    "# log_file_splitline_iter[1] == '0': means box 0 (typicially liquid),  1= box 1 (typically vapor)"
   ]
  },
  {
   "cell_type": "code",
   "execution_count": null,
   "id": "eee6b211-fcdd-499f-9a70-49d170c68157",
   "metadata": {},
   "outputs": [],
   "source": [
    "def K_to_kj_per_mol_conversion(value):\n",
    "    conversion_factor = (1 * u.Kelvin).to_value(\"kJ/mol\", equivalence=\"thermal\") #conversion_K_to_kj_per_mol\n",
    "    converted = value * conversion_factor\n",
    "    return converted"
   ]
  },
  {
   "cell_type": "code",
   "execution_count": null,
   "id": "82ea8114-7694-42fc-a11e-31948534e151",
   "metadata": {},
   "outputs": [],
   "source": [
    "gomc_map = {\n",
    "    \"TOTAL\": \"potential_energy\",\n",
    "    \"INTRA(B)\": \"intramolecular_energy\",\n",
    "    \"INTRA(NB)\": (\"intramolecular_energy\", \"tot_vdw_energy\", \"tot_pair_energy\"),\n",
    "    \"BOND(B)\": \"bonds_energy\",\n",
    "    \"ANGLE(B)\": \"angles_energy\",\n",
    "    \"DIHEDRAL(B)\": \"dihedrals_energy\",\n",
    "    \"INTER(LJ)\": (\"intermolecular_energy\", \"tot_vdw_energy\", \"tot_pair_energy\"),\n",
    "    \"LRC\": (\"tail_energy\", \"tot_vdw_energy\"),\n",
    "    \"TOTAL_ELECT\": \"tot_electrostatics\",\n",
    "}"
   ]
  },
  {
   "cell_type": "code",
   "execution_count": null,
   "id": "a105605c-249a-4b3e-9cee-0032e2da8ca4",
   "metadata": {},
   "outputs": [],
   "source": [
    "for job in project.find_jobs({\"engine\": \"gomc\"}):\n",
    "    with open(f\"{job.ws}/out_production_run.dat\") as f:\n",
    "        data = f.readlines()\n",
    "    for i, line in enumerate(data):\n",
    "        if \"INITIAL SIMULATION ENERGY\" in line:\n",
    "            for title, value in zip(data[i+2].split(), data[i+4].split()):\n",
    "                 # spe_data[job.id][title] = value\n",
    "                if title in gomc_map:\n",
    "                    if isinstance(gomc_map[title], str):\n",
    "                        spe_data[job.sp.molecule][job.sp.engine][gomc_map[title]] += K_to_kj_per_mol_conversion(float(value))\n",
    "                    else:\n",
    "                        for key in gomc_map[title]:\n",
    "                            spe_data[job.sp.molecule][job.sp.engine][key] += K_to_kj_per_mol_conversion(float(value))\n",
    "                else:\n",
    "                    print(f\"Not included {job.sp.molecule} {title}\")"
   ]
  },
  {
   "cell_type": "markdown",
   "id": "d524ca27-e31f-4ec4-9d48-dd5380262aaa",
   "metadata": {},
   "source": [
    "# Summary"
   ]
  },
  {
   "cell_type": "code",
   "execution_count": null,
   "id": "89be4abc-eed8-48e5-bfc9-919155290746",
   "metadata": {},
   "outputs": [],
   "source": [
    "import pandas as pd\n",
    "\n",
    "summarize_dfs = dict()\n",
    "for molecule in spe_data:\n",
    "    print(molecule)\n",
    "    df = pd.DataFrame.from_dict(spe_data[molecule]).transpose()\n",
    "    display(df)\n",
    "    df.to_csv(f\"csvs/{molecule}_spe.csv\")"
   ]
  },
  {
   "cell_type": "markdown",
   "id": "63790c5f",
   "metadata": {},
   "source": [
    "### Note for GOMC energy\n",
    "- `INTRA (NB)` include short range electrostatic --> got included in `tot_vdw_energy`\n",
    "- Short range electrostatic is not part of `tot_electrostatics` "
   ]
  },
  {
   "cell_type": "code",
   "execution_count": null,
   "id": "1412a0e2-9297-4bce-af26-6a8d80567906",
   "metadata": {
    "tags": []
   },
   "outputs": [],
   "source": [
    "spe_data[\"methaneUA\"][\"gromacs\"]"
   ]
  },
  {
   "cell_type": "code",
   "execution_count": null,
   "id": "d8b571b5-307c-4e9a-8f4e-a86b8e5a35f0",
   "metadata": {},
   "outputs": [],
   "source": [
    "potential_energy_table = dict()\n",
    "\n",
    "engines = (\"lammps-VU\", \"hoomd\", \"gromacs\",\n",
    "                    \"mcccs\", \"gomc\", \"cassandra\")\n",
    "molecules = (\"methaneUA\", \"pentaneUA\", \"benzeneUA\", \"ethanolAA\", \"waterSPCE\")\n",
    "\n",
    "for engine in engines:\n",
    "    potential_energy_table[pretty_names[engine]] = list()\n",
    "    for molecule in molecules:\n",
    "        potential_energy_table[pretty_names[engine]].append(\n",
    "            spe_data[molecule][engine][\"potential_energy\"])\n",
    "\n",
    "potential_energy_df = pd.DataFrame.from_dict(potential_energy_table,\n",
    "                       orient=\"index\",\n",
    "                       columns=[pretty_molecules[molecule] for molecule in molecules])\n",
    "\n",
    "potential_energy_df.to_csv(\"csvs/potential_energy.csv\")\n"
   ]
  },
  {
   "cell_type": "code",
   "execution_count": null,
   "id": "d6297400-c7e2-4849-82b3-ae76e373dfb5",
   "metadata": {},
   "outputs": [],
   "source": [
    "electrostatics_table = dict()\n",
    "\n",
    "engines = (\"lammps-VU\", \"hoomd\", \"gromacs\",\n",
    "                    \"mcccs\", \"gomc\", \"cassandra\")\n",
    "molecules = (\"methaneUA\", \"pentaneUA\", \"benzeneUA\", \"ethanolAA\", \"waterSPCE\")\n",
    "\n",
    "for engine in engines:\n",
    "    electrostatics_table[pretty_names[engine]] = list()\n",
    "    for molecule in molecules:\n",
    "        electrostatics_table[pretty_names[engine]].append(\n",
    "            spe_data[molecule][engine][\"tot_electrostatics\"])\n",
    "\n",
    "electrostatics_df = pd.DataFrame.from_dict(electrostatics_table,\n",
    "                       orient=\"index\",\n",
    "                       columns=[pretty_molecules[molecule] for molecule in molecules])\n",
    "\n",
    "electrostatics_df.to_csv(\"csvs/electrostatics_energy.csv\")\n"
   ]
  },
  {
   "cell_type": "code",
   "execution_count": null,
   "id": "b683d5d0-6caa-40f1-b281-024cfc9c9a19",
   "metadata": {},
   "outputs": [],
   "source": [
    "vdw_table = dict()\n",
    "\n",
    "engines = (\"lammps-VU\", \"hoomd\", \"gromacs\",\n",
    "                    \"mcccs\", \"gomc\", \"cassandra\")\n",
    "molecules = (\"methaneUA\", \"pentaneUA\", \"benzeneUA\", \"ethanolAA\", \"waterSPCE\")\n",
    "\n",
    "for engine in engines:\n",
    "    vdw_table[pretty_names[engine]] = list()\n",
    "    for molecule in molecules:\n",
    "        vdw_table[pretty_names[engine]].append(\n",
    "            spe_data[molecule][engine][\"tot_vdw_energy\"])\n",
    "\n",
    "vdw_df = pd.DataFrame.from_dict(vdw_table,\n",
    "                       orient=\"index\",\n",
    "                       columns=[pretty_molecules[molecule] for molecule in molecules])\n",
    "\n",
    "vdw_df.to_csv(\"csvs/vdw_energy.csv\")\n"
   ]
  },
  {
   "cell_type": "code",
   "execution_count": null,
   "id": "3d089dda-d33b-4f73-a8b0-95b36be74d87",
   "metadata": {},
   "outputs": [],
   "source": []
  }
 ],
 "metadata": {
  "kernelspec": {
   "display_name": "Python 3 (ipykernel)",
   "language": "python",
   "name": "python3"
  },
  "language_info": {
   "codemirror_mode": {
    "name": "ipython",
    "version": 3
   },
   "file_extension": ".py",
   "mimetype": "text/x-python",
   "name": "python",
   "nbconvert_exporter": "python",
   "pygments_lexer": "ipython3",
   "version": "3.10.11"
  }
 },
 "nbformat": 4,
 "nbformat_minor": 5
}
